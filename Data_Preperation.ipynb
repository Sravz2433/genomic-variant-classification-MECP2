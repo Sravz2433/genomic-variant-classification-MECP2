{
 "cells": [
  {
   "cell_type": "markdown",
   "metadata": {},
   "source": [
    "# Analysis Plan for MECP2 Mutation"
   ]
  },
  {
   "cell_type": "markdown",
   "metadata": {},
   "source": [
    "### Conversion of .txt to .csv\n"
   ]
  },
  {
   "cell_type": "code",
   "execution_count": 1,
   "metadata": {},
   "outputs": [
    {
     "ename": "FileNotFoundError",
     "evalue": "[Errno 2] No such file or directory: 'data/clinvar_result(9).txt'",
     "output_type": "error",
     "traceback": [
      "\u001b[1;31m---------------------------------------------------------------------------\u001b[0m",
      "\u001b[1;31mFileNotFoundError\u001b[0m                         Traceback (most recent call last)",
      "Cell \u001b[1;32mIn[1], line 4\u001b[0m\n\u001b[0;32m      1\u001b[0m \u001b[38;5;28;01mimport\u001b[39;00m \u001b[38;5;21;01mpandas\u001b[39;00m \u001b[38;5;28;01mas\u001b[39;00m \u001b[38;5;21;01mpd\u001b[39;00m\n\u001b[0;32m      3\u001b[0m \u001b[38;5;66;03m# Load the text file\u001b[39;00m\n\u001b[1;32m----> 4\u001b[0m df \u001b[38;5;241m=\u001b[39m \u001b[43mpd\u001b[49m\u001b[38;5;241;43m.\u001b[39;49m\u001b[43mread_csv\u001b[49m\u001b[43m(\u001b[49m\u001b[38;5;124;43m\"\u001b[39;49m\u001b[38;5;124;43mdata/clinvar_result(9).txt\u001b[39;49m\u001b[38;5;124;43m\"\u001b[39;49m\u001b[43m,\u001b[49m\u001b[43m \u001b[49m\u001b[43mdelimiter\u001b[49m\u001b[38;5;241;43m=\u001b[39;49m\u001b[38;5;124;43m\"\u001b[39;49m\u001b[38;5;130;43;01m\\t\u001b[39;49;00m\u001b[38;5;124;43m\"\u001b[39;49m\u001b[43m)\u001b[49m  \u001b[38;5;66;03m# Change delimiter if needed\u001b[39;00m\n\u001b[0;32m      6\u001b[0m \u001b[38;5;66;03m# Save as CSV\u001b[39;00m\n\u001b[0;32m      7\u001b[0m df\u001b[38;5;241m.\u001b[39mto_csv(\u001b[38;5;124m\"\u001b[39m\u001b[38;5;124mdata/clinvar_result(9).csv\u001b[39m\u001b[38;5;124m\"\u001b[39m, index\u001b[38;5;241m=\u001b[39m\u001b[38;5;28;01mFalse\u001b[39;00m)\n",
      "File \u001b[1;32mc:\\Users\\sravy\\anaconda3\\Lib\\site-packages\\pandas\\io\\parsers\\readers.py:1026\u001b[0m, in \u001b[0;36mread_csv\u001b[1;34m(filepath_or_buffer, sep, delimiter, header, names, index_col, usecols, dtype, engine, converters, true_values, false_values, skipinitialspace, skiprows, skipfooter, nrows, na_values, keep_default_na, na_filter, verbose, skip_blank_lines, parse_dates, infer_datetime_format, keep_date_col, date_parser, date_format, dayfirst, cache_dates, iterator, chunksize, compression, thousands, decimal, lineterminator, quotechar, quoting, doublequote, escapechar, comment, encoding, encoding_errors, dialect, on_bad_lines, delim_whitespace, low_memory, memory_map, float_precision, storage_options, dtype_backend)\u001b[0m\n\u001b[0;32m   1013\u001b[0m kwds_defaults \u001b[38;5;241m=\u001b[39m _refine_defaults_read(\n\u001b[0;32m   1014\u001b[0m     dialect,\n\u001b[0;32m   1015\u001b[0m     delimiter,\n\u001b[1;32m   (...)\u001b[0m\n\u001b[0;32m   1022\u001b[0m     dtype_backend\u001b[38;5;241m=\u001b[39mdtype_backend,\n\u001b[0;32m   1023\u001b[0m )\n\u001b[0;32m   1024\u001b[0m kwds\u001b[38;5;241m.\u001b[39mupdate(kwds_defaults)\n\u001b[1;32m-> 1026\u001b[0m \u001b[38;5;28;01mreturn\u001b[39;00m \u001b[43m_read\u001b[49m\u001b[43m(\u001b[49m\u001b[43mfilepath_or_buffer\u001b[49m\u001b[43m,\u001b[49m\u001b[43m \u001b[49m\u001b[43mkwds\u001b[49m\u001b[43m)\u001b[49m\n",
      "File \u001b[1;32mc:\\Users\\sravy\\anaconda3\\Lib\\site-packages\\pandas\\io\\parsers\\readers.py:620\u001b[0m, in \u001b[0;36m_read\u001b[1;34m(filepath_or_buffer, kwds)\u001b[0m\n\u001b[0;32m    617\u001b[0m _validate_names(kwds\u001b[38;5;241m.\u001b[39mget(\u001b[38;5;124m\"\u001b[39m\u001b[38;5;124mnames\u001b[39m\u001b[38;5;124m\"\u001b[39m, \u001b[38;5;28;01mNone\u001b[39;00m))\n\u001b[0;32m    619\u001b[0m \u001b[38;5;66;03m# Create the parser.\u001b[39;00m\n\u001b[1;32m--> 620\u001b[0m parser \u001b[38;5;241m=\u001b[39m \u001b[43mTextFileReader\u001b[49m\u001b[43m(\u001b[49m\u001b[43mfilepath_or_buffer\u001b[49m\u001b[43m,\u001b[49m\u001b[43m \u001b[49m\u001b[38;5;241;43m*\u001b[39;49m\u001b[38;5;241;43m*\u001b[39;49m\u001b[43mkwds\u001b[49m\u001b[43m)\u001b[49m\n\u001b[0;32m    622\u001b[0m \u001b[38;5;28;01mif\u001b[39;00m chunksize \u001b[38;5;129;01mor\u001b[39;00m iterator:\n\u001b[0;32m    623\u001b[0m     \u001b[38;5;28;01mreturn\u001b[39;00m parser\n",
      "File \u001b[1;32mc:\\Users\\sravy\\anaconda3\\Lib\\site-packages\\pandas\\io\\parsers\\readers.py:1620\u001b[0m, in \u001b[0;36mTextFileReader.__init__\u001b[1;34m(self, f, engine, **kwds)\u001b[0m\n\u001b[0;32m   1617\u001b[0m     \u001b[38;5;28mself\u001b[39m\u001b[38;5;241m.\u001b[39moptions[\u001b[38;5;124m\"\u001b[39m\u001b[38;5;124mhas_index_names\u001b[39m\u001b[38;5;124m\"\u001b[39m] \u001b[38;5;241m=\u001b[39m kwds[\u001b[38;5;124m\"\u001b[39m\u001b[38;5;124mhas_index_names\u001b[39m\u001b[38;5;124m\"\u001b[39m]\n\u001b[0;32m   1619\u001b[0m \u001b[38;5;28mself\u001b[39m\u001b[38;5;241m.\u001b[39mhandles: IOHandles \u001b[38;5;241m|\u001b[39m \u001b[38;5;28;01mNone\u001b[39;00m \u001b[38;5;241m=\u001b[39m \u001b[38;5;28;01mNone\u001b[39;00m\n\u001b[1;32m-> 1620\u001b[0m \u001b[38;5;28mself\u001b[39m\u001b[38;5;241m.\u001b[39m_engine \u001b[38;5;241m=\u001b[39m \u001b[38;5;28;43mself\u001b[39;49m\u001b[38;5;241;43m.\u001b[39;49m\u001b[43m_make_engine\u001b[49m\u001b[43m(\u001b[49m\u001b[43mf\u001b[49m\u001b[43m,\u001b[49m\u001b[43m \u001b[49m\u001b[38;5;28;43mself\u001b[39;49m\u001b[38;5;241;43m.\u001b[39;49m\u001b[43mengine\u001b[49m\u001b[43m)\u001b[49m\n",
      "File \u001b[1;32mc:\\Users\\sravy\\anaconda3\\Lib\\site-packages\\pandas\\io\\parsers\\readers.py:1880\u001b[0m, in \u001b[0;36mTextFileReader._make_engine\u001b[1;34m(self, f, engine)\u001b[0m\n\u001b[0;32m   1878\u001b[0m     \u001b[38;5;28;01mif\u001b[39;00m \u001b[38;5;124m\"\u001b[39m\u001b[38;5;124mb\u001b[39m\u001b[38;5;124m\"\u001b[39m \u001b[38;5;129;01mnot\u001b[39;00m \u001b[38;5;129;01min\u001b[39;00m mode:\n\u001b[0;32m   1879\u001b[0m         mode \u001b[38;5;241m+\u001b[39m\u001b[38;5;241m=\u001b[39m \u001b[38;5;124m\"\u001b[39m\u001b[38;5;124mb\u001b[39m\u001b[38;5;124m\"\u001b[39m\n\u001b[1;32m-> 1880\u001b[0m \u001b[38;5;28mself\u001b[39m\u001b[38;5;241m.\u001b[39mhandles \u001b[38;5;241m=\u001b[39m \u001b[43mget_handle\u001b[49m\u001b[43m(\u001b[49m\n\u001b[0;32m   1881\u001b[0m \u001b[43m    \u001b[49m\u001b[43mf\u001b[49m\u001b[43m,\u001b[49m\n\u001b[0;32m   1882\u001b[0m \u001b[43m    \u001b[49m\u001b[43mmode\u001b[49m\u001b[43m,\u001b[49m\n\u001b[0;32m   1883\u001b[0m \u001b[43m    \u001b[49m\u001b[43mencoding\u001b[49m\u001b[38;5;241;43m=\u001b[39;49m\u001b[38;5;28;43mself\u001b[39;49m\u001b[38;5;241;43m.\u001b[39;49m\u001b[43moptions\u001b[49m\u001b[38;5;241;43m.\u001b[39;49m\u001b[43mget\u001b[49m\u001b[43m(\u001b[49m\u001b[38;5;124;43m\"\u001b[39;49m\u001b[38;5;124;43mencoding\u001b[39;49m\u001b[38;5;124;43m\"\u001b[39;49m\u001b[43m,\u001b[49m\u001b[43m \u001b[49m\u001b[38;5;28;43;01mNone\u001b[39;49;00m\u001b[43m)\u001b[49m\u001b[43m,\u001b[49m\n\u001b[0;32m   1884\u001b[0m \u001b[43m    \u001b[49m\u001b[43mcompression\u001b[49m\u001b[38;5;241;43m=\u001b[39;49m\u001b[38;5;28;43mself\u001b[39;49m\u001b[38;5;241;43m.\u001b[39;49m\u001b[43moptions\u001b[49m\u001b[38;5;241;43m.\u001b[39;49m\u001b[43mget\u001b[49m\u001b[43m(\u001b[49m\u001b[38;5;124;43m\"\u001b[39;49m\u001b[38;5;124;43mcompression\u001b[39;49m\u001b[38;5;124;43m\"\u001b[39;49m\u001b[43m,\u001b[49m\u001b[43m \u001b[49m\u001b[38;5;28;43;01mNone\u001b[39;49;00m\u001b[43m)\u001b[49m\u001b[43m,\u001b[49m\n\u001b[0;32m   1885\u001b[0m \u001b[43m    \u001b[49m\u001b[43mmemory_map\u001b[49m\u001b[38;5;241;43m=\u001b[39;49m\u001b[38;5;28;43mself\u001b[39;49m\u001b[38;5;241;43m.\u001b[39;49m\u001b[43moptions\u001b[49m\u001b[38;5;241;43m.\u001b[39;49m\u001b[43mget\u001b[49m\u001b[43m(\u001b[49m\u001b[38;5;124;43m\"\u001b[39;49m\u001b[38;5;124;43mmemory_map\u001b[39;49m\u001b[38;5;124;43m\"\u001b[39;49m\u001b[43m,\u001b[49m\u001b[43m \u001b[49m\u001b[38;5;28;43;01mFalse\u001b[39;49;00m\u001b[43m)\u001b[49m\u001b[43m,\u001b[49m\n\u001b[0;32m   1886\u001b[0m \u001b[43m    \u001b[49m\u001b[43mis_text\u001b[49m\u001b[38;5;241;43m=\u001b[39;49m\u001b[43mis_text\u001b[49m\u001b[43m,\u001b[49m\n\u001b[0;32m   1887\u001b[0m \u001b[43m    \u001b[49m\u001b[43merrors\u001b[49m\u001b[38;5;241;43m=\u001b[39;49m\u001b[38;5;28;43mself\u001b[39;49m\u001b[38;5;241;43m.\u001b[39;49m\u001b[43moptions\u001b[49m\u001b[38;5;241;43m.\u001b[39;49m\u001b[43mget\u001b[49m\u001b[43m(\u001b[49m\u001b[38;5;124;43m\"\u001b[39;49m\u001b[38;5;124;43mencoding_errors\u001b[39;49m\u001b[38;5;124;43m\"\u001b[39;49m\u001b[43m,\u001b[49m\u001b[43m \u001b[49m\u001b[38;5;124;43m\"\u001b[39;49m\u001b[38;5;124;43mstrict\u001b[39;49m\u001b[38;5;124;43m\"\u001b[39;49m\u001b[43m)\u001b[49m\u001b[43m,\u001b[49m\n\u001b[0;32m   1888\u001b[0m \u001b[43m    \u001b[49m\u001b[43mstorage_options\u001b[49m\u001b[38;5;241;43m=\u001b[39;49m\u001b[38;5;28;43mself\u001b[39;49m\u001b[38;5;241;43m.\u001b[39;49m\u001b[43moptions\u001b[49m\u001b[38;5;241;43m.\u001b[39;49m\u001b[43mget\u001b[49m\u001b[43m(\u001b[49m\u001b[38;5;124;43m\"\u001b[39;49m\u001b[38;5;124;43mstorage_options\u001b[39;49m\u001b[38;5;124;43m\"\u001b[39;49m\u001b[43m,\u001b[49m\u001b[43m \u001b[49m\u001b[38;5;28;43;01mNone\u001b[39;49;00m\u001b[43m)\u001b[49m\u001b[43m,\u001b[49m\n\u001b[0;32m   1889\u001b[0m \u001b[43m\u001b[49m\u001b[43m)\u001b[49m\n\u001b[0;32m   1890\u001b[0m \u001b[38;5;28;01massert\u001b[39;00m \u001b[38;5;28mself\u001b[39m\u001b[38;5;241m.\u001b[39mhandles \u001b[38;5;129;01mis\u001b[39;00m \u001b[38;5;129;01mnot\u001b[39;00m \u001b[38;5;28;01mNone\u001b[39;00m\n\u001b[0;32m   1891\u001b[0m f \u001b[38;5;241m=\u001b[39m \u001b[38;5;28mself\u001b[39m\u001b[38;5;241m.\u001b[39mhandles\u001b[38;5;241m.\u001b[39mhandle\n",
      "File \u001b[1;32mc:\\Users\\sravy\\anaconda3\\Lib\\site-packages\\pandas\\io\\common.py:873\u001b[0m, in \u001b[0;36mget_handle\u001b[1;34m(path_or_buf, mode, encoding, compression, memory_map, is_text, errors, storage_options)\u001b[0m\n\u001b[0;32m    868\u001b[0m \u001b[38;5;28;01melif\u001b[39;00m \u001b[38;5;28misinstance\u001b[39m(handle, \u001b[38;5;28mstr\u001b[39m):\n\u001b[0;32m    869\u001b[0m     \u001b[38;5;66;03m# Check whether the filename is to be opened in binary mode.\u001b[39;00m\n\u001b[0;32m    870\u001b[0m     \u001b[38;5;66;03m# Binary mode does not support 'encoding' and 'newline'.\u001b[39;00m\n\u001b[0;32m    871\u001b[0m     \u001b[38;5;28;01mif\u001b[39;00m ioargs\u001b[38;5;241m.\u001b[39mencoding \u001b[38;5;129;01mand\u001b[39;00m \u001b[38;5;124m\"\u001b[39m\u001b[38;5;124mb\u001b[39m\u001b[38;5;124m\"\u001b[39m \u001b[38;5;129;01mnot\u001b[39;00m \u001b[38;5;129;01min\u001b[39;00m ioargs\u001b[38;5;241m.\u001b[39mmode:\n\u001b[0;32m    872\u001b[0m         \u001b[38;5;66;03m# Encoding\u001b[39;00m\n\u001b[1;32m--> 873\u001b[0m         handle \u001b[38;5;241m=\u001b[39m \u001b[38;5;28;43mopen\u001b[39;49m\u001b[43m(\u001b[49m\n\u001b[0;32m    874\u001b[0m \u001b[43m            \u001b[49m\u001b[43mhandle\u001b[49m\u001b[43m,\u001b[49m\n\u001b[0;32m    875\u001b[0m \u001b[43m            \u001b[49m\u001b[43mioargs\u001b[49m\u001b[38;5;241;43m.\u001b[39;49m\u001b[43mmode\u001b[49m\u001b[43m,\u001b[49m\n\u001b[0;32m    876\u001b[0m \u001b[43m            \u001b[49m\u001b[43mencoding\u001b[49m\u001b[38;5;241;43m=\u001b[39;49m\u001b[43mioargs\u001b[49m\u001b[38;5;241;43m.\u001b[39;49m\u001b[43mencoding\u001b[49m\u001b[43m,\u001b[49m\n\u001b[0;32m    877\u001b[0m \u001b[43m            \u001b[49m\u001b[43merrors\u001b[49m\u001b[38;5;241;43m=\u001b[39;49m\u001b[43merrors\u001b[49m\u001b[43m,\u001b[49m\n\u001b[0;32m    878\u001b[0m \u001b[43m            \u001b[49m\u001b[43mnewline\u001b[49m\u001b[38;5;241;43m=\u001b[39;49m\u001b[38;5;124;43m\"\u001b[39;49m\u001b[38;5;124;43m\"\u001b[39;49m\u001b[43m,\u001b[49m\n\u001b[0;32m    879\u001b[0m \u001b[43m        \u001b[49m\u001b[43m)\u001b[49m\n\u001b[0;32m    880\u001b[0m     \u001b[38;5;28;01melse\u001b[39;00m:\n\u001b[0;32m    881\u001b[0m         \u001b[38;5;66;03m# Binary mode\u001b[39;00m\n\u001b[0;32m    882\u001b[0m         handle \u001b[38;5;241m=\u001b[39m \u001b[38;5;28mopen\u001b[39m(handle, ioargs\u001b[38;5;241m.\u001b[39mmode)\n",
      "\u001b[1;31mFileNotFoundError\u001b[0m: [Errno 2] No such file or directory: 'data/clinvar_result(9).txt'"
     ]
    }
   ],
   "source": [
    "import pandas as pd\n",
    "\n",
    "# Load the text file\n",
    "df = pd.read_csv(\"data/clinvar_result(9).txt\", delimiter=\"\\t\")  # Change delimiter if needed\n",
    "\n",
    "# Save as CSV\n",
    "df.to_csv(\"data/clinvar_result(9).csv\", index=False)\n",
    "\n",
    "print(\"✅ TXT file successfully converted to CSV!\")\n"
   ]
  },
  {
   "cell_type": "markdown",
   "metadata": {},
   "source": [
    "### Load CSV file into a DataFrame"
   ]
  },
  {
   "cell_type": "code",
   "execution_count": 5,
   "metadata": {},
   "outputs": [
    {
     "name": "stdout",
     "output_type": "stream",
     "text": [
      "                               Name Gene(s) Protein change  \\\n",
      "0  NM_001110792.2(MECP2):c.*7856A>C   MECP2            NaN   \n",
      "1  NM_001110792.2(MECP2):c.*7748C>T   MECP2            NaN   \n",
      "2  NM_001110792.2(MECP2):c.*5839C>T   MECP2            NaN   \n",
      "3  NM_001110792.2(MECP2):c.*5348T>C   MECP2            NaN   \n",
      "4  NM_001110792.2(MECP2):c.*4576A>C   MECP2            NaN   \n",
      "\n",
      "                 Condition(s)     Accession GRCh37Chromosome  GRCh37Location  \\\n",
      "0  not provided|Rett syndrome  VCV000143283                X       153287962   \n",
      "1               Rett syndrome  VCV000143282                X       153288070   \n",
      "2               Rett syndrome  VCV000143280                X       153289979   \n",
      "3  not provided|Rett syndrome  VCV000143275                X       153290470   \n",
      "4               Rett syndrome  VCV000143271                X       153291242   \n",
      "\n",
      "  GRCh38Chromosome  GRCh38Location  VariationID  ...  Germline classification  \\\n",
      "0                X       154022511       143283  ...                   Benign   \n",
      "1                X       154022619       143282  ...                   Benign   \n",
      "2                X       154024528       143280  ...            Likely benign   \n",
      "3                X       154025019       143275  ...     Benign/Likely benign   \n",
      "4                X       154025791       143271  ...                   Benign   \n",
      "\n",
      "  Germline date last evaluated  \\\n",
      "0                 Oct 11, 2023   \n",
      "1                 Aug 14, 2023   \n",
      "2                 Aug 14, 2023   \n",
      "3                 Feb 18, 2024   \n",
      "4                 Aug 14, 2023   \n",
      "\n",
      "                              Germline review status Somatic clinical impact  \\\n",
      "0  criteria provided, multiple submitters, no con...                     NaN   \n",
      "1                criteria provided, single submitter                     NaN   \n",
      "2                criteria provided, single submitter                     NaN   \n",
      "3  criteria provided, multiple submitters, no con...                     NaN   \n",
      "4                criteria provided, single submitter                     NaN   \n",
      "\n",
      "  Somatic clinical impact date last evaluated  \\\n",
      "0                                         NaN   \n",
      "1                                         NaN   \n",
      "2                                         NaN   \n",
      "3                                         NaN   \n",
      "4                                         NaN   \n",
      "\n",
      "  Somatic clinical impact review status Oncogenicity classification  \\\n",
      "0                                   NaN                         NaN   \n",
      "1                                   NaN                         NaN   \n",
      "2                                   NaN                         NaN   \n",
      "3                                   NaN                         NaN   \n",
      "4                                   NaN                         NaN   \n",
      "\n",
      "  Oncogenicity date last evaluated  Oncogenicity review status  Unnamed: 24  \n",
      "0                              NaN                         NaN          NaN  \n",
      "1                              NaN                         NaN          NaN  \n",
      "2                              NaN                         NaN          NaN  \n",
      "3                              NaN                         NaN          NaN  \n",
      "4                              NaN                         NaN          NaN  \n",
      "\n",
      "[5 rows x 25 columns]\n"
     ]
    }
   ],
   "source": [
    "import pandas as pd\n",
    "import requests\n",
    "\n",
    "df = pd.read_csv(\"datap/clinical_result.csv\")\n",
    "\n",
    "# Display first 5 rows\n",
    "print(df.head())\n"
   ]
  },
  {
   "cell_type": "markdown",
   "metadata": {},
   "source": [
    "### Split Canonical SPDI into four separate columns"
   ]
  },
  {
   "cell_type": "code",
   "execution_count": 6,
   "metadata": {},
   "outputs": [
    {
     "name": "stdout",
     "output_type": "stream",
     "text": [
      "✅ Canonical SPDI successfully split into separate columns.\n"
     ]
    }
   ],
   "source": [
    "\n",
    "# Ensure \"Canonical SPDI\" exists in the dataset\n",
    "if \"Canonical SPDI\" in df.columns:\n",
    "    # Split into four separate columns\n",
    "    df[['Sequence_ID', 'position', 'Deleted_Sequence', 'Inserted_Sequence']] = df['Canonical SPDI'].str.split(':', expand=True)\n",
    "\n",
    "    # Convert Position to integer for numerical analysis\n",
    "    df[\"position\"] = pd.to_numeric(df[\"position\"], errors=\"coerce\")\n",
    "\n",
    "\n",
    "\n",
    "print(\"✅ Canonical SPDI successfully split into separate columns.\")\n"
   ]
  },
  {
   "cell_type": "markdown",
   "metadata": {},
   "source": [
    "### Labeling mutation types"
   ]
  },
  {
   "cell_type": "code",
   "execution_count": 7,
   "metadata": {},
   "outputs": [],
   "source": [
    "\n",
    "# Define a function to label mutation types\n",
    "def label_mutation_type(row):\n",
    "    purines = ['A', 'G']\n",
    "    pyrimidines = ['C', 'T']\n",
    "    deleted = row['Deleted_Sequence']\n",
    "    inserted = row['Inserted_Sequence']\n",
    "    \n",
    "    if (deleted in purines and inserted in purines) or (deleted in pyrimidines and inserted in pyrimidines):\n",
    "        return 'Transition'\n",
    "    elif (deleted in purines and inserted in pyrimidines) or (deleted in pyrimidines and inserted in purines):\n",
    "        return 'Transversion'\n",
    "    else:\n",
    "        return 'Unknown'\n",
    "\n",
    "# Apply the function to label each mutation\n",
    "df['Mutation_Type'] = df.apply(label_mutation_type, axis=1)\n",
    "\n"
   ]
  },
  {
   "cell_type": "markdown",
   "metadata": {},
   "source": [
    "### Combines Deleted and Inserted Sequences"
   ]
  },
  {
   "cell_type": "code",
   "execution_count": 8,
   "metadata": {},
   "outputs": [
    {
     "name": "stdout",
     "output_type": "stream",
     "text": [
      "✅ The most frequent base pair mutation is: G>A\n",
      "✅ It occurs 222 times.\n"
     ]
    }
   ],
   "source": [
    "df_new = df\n",
    "\n",
    "# Create a new column that combines Deleted and Inserted Sequences\n",
    "df_new['BP_Mutation'] = df_new['Deleted_Sequence'] + '>' + df_new['Inserted_Sequence']\n",
    "\n",
    "# Count the frequency of each base pair mutation\n",
    "bp_mutation_counts = df_new['BP_Mutation'].value_counts()\n",
    "\n",
    "# Get the highest base pair mutation\n",
    "most_frequent_bp_mutation = bp_mutation_counts.idxmax()\n",
    "most_frequent_bp_mutation_count = bp_mutation_counts.max()\n",
    "\n",
    "print(f\"✅ The most frequent base pair mutation is: {most_frequent_bp_mutation}\")\n",
    "print(f\"✅ It occurs {most_frequent_bp_mutation_count} times.\")\n"
   ]
  },
  {
   "cell_type": "code",
   "execution_count": null,
   "metadata": {},
   "outputs": [],
   "source": []
  },
  {
   "cell_type": "code",
   "execution_count": null,
   "metadata": {},
   "outputs": [],
   "source": [
    "df_variants = df_new\n",
    "def fetch_dna_sequence(position, window=50):\n",
    "    \"\"\"Fetches a DNA sequence window (±50 bp) around a variant on Chromosome X.\"\"\"\n",
    "    start = max(1, int(position) - window)\n",
    "    end = int(position) + window\n",
    "    url = f\"https://rest.ensembl.org/sequence/region/human/X:{start}..{end}?content-type=text/plain\"\n",
    "    \n",
    "    response = requests.get(url)\n",
    "    if response.status_code == 200:\n",
    "        return response.text.strip()\n",
    "    return \"N\" * (2 * window + 1)  # If request fails, return Ns\n",
    "\n",
    "# Apply function to get sequence windows (Chromosome is always 'X')\n",
    "df_variants[\"sequence_window\"] = df_variants[\"position\"].apply(\n",
    "    lambda pos: fetch_dna_sequence(pos) if pos != \"N/A\" else \"N\" * 101\n",
    ")\n",
    "\n",
    "# Replace reference allele with alternate allele at position 51\n",
    "def mutate_sequence(sequence, variant, position=50):\n",
    "    \"\"\"Replaces the reference base with the alternate allele at position 51.\"\"\"\n",
    "    return sequence[:position] + variant + sequence[position+1:]\n",
    "\n",
    "# Convert alternate alleles to strings and handle NaNs\n",
    "df_variants[\"Inserted_Sequence\"] = df_variants[\"Inserted_Sequence\"].fillna(\"N\").astype(str)\n",
    "\n",
    "# Apply function to mutate sequence\n",
    "df_variants[\"mutated_sequence\"] = df_variants.apply(\n",
    "    lambda row: mutate_sequence(row[\"sequence_window\"], row[\"Inserted_Sequence\"]) \n",
    "    if row[\"sequence_window\"] != \"N\" * 101 else row[\"sequence_window\"],\n",
    "    axis=1\n",
    ")\n",
    "\n",
    "def get_prev_alleles(sequence, position=50):\n",
    "    \"\"\"Extracts the previous allele from the sequence window.\"\"\"\n",
    "    return sequence[position - 1] if position > 0 else \"N\"\n",
    "\n",
    "def get_next_alleles(sequence, position=50):\n",
    "    \"\"\"Extracts the next allele from the sequence window.\"\"\"\n",
    "    return sequence[position + 1] if position < len(sequence) - 1 else \"N\"\n",
    "\n",
    "# Apply function to extract alleles\n",
    "df_variants[\"prev_position_allele\"] = df_variants[\"sequence_window\"].apply(get_prev_alleles)\n",
    "df_variants[\"next_position_allele\"] = df_variants[\"sequence_window\"].apply(get_next_alleles)\n"
   ]
  },
  {
   "cell_type": "code",
   "execution_count": 10,
   "metadata": {},
   "outputs": [
    {
     "name": "stdout",
     "output_type": "stream",
     "text": [
      "✅ Unwanted columns dropped successfully.\n",
      "                               Name Gene(s) Protein change  \\\n",
      "0  NM_001110792.2(MECP2):c.*7856A>C   MECP2            NaN   \n",
      "1  NM_001110792.2(MECP2):c.*7748C>T   MECP2            NaN   \n",
      "2  NM_001110792.2(MECP2):c.*5839C>T   MECP2            NaN   \n",
      "3  NM_001110792.2(MECP2):c.*5348T>C   MECP2            NaN   \n",
      "4  NM_001110792.2(MECP2):c.*4576A>C   MECP2            NaN   \n",
      "\n",
      "                 Condition(s)     Accession GRCh37Chromosome  GRCh37Location  \\\n",
      "0  not provided|Rett syndrome  VCV000143283                X       153287962   \n",
      "1               Rett syndrome  VCV000143282                X       153288070   \n",
      "2               Rett syndrome  VCV000143280                X       153289979   \n",
      "3  not provided|Rett syndrome  VCV000143275                X       153290470   \n",
      "4               Rett syndrome  VCV000143271                X       153291242   \n",
      "\n",
      "  GRCh38Chromosome  GRCh38Location  VariationID  ...  \\\n",
      "0                X       154022511       143283  ...   \n",
      "1                X       154022619       143282  ...   \n",
      "2                X       154024528       143280  ...   \n",
      "3                X       154025019       143275  ...   \n",
      "4                X       154025791       143271  ...   \n",
      "\n",
      "               Canonical SPDI               Variant type  \\\n",
      "0  NC_000023.11:154022510:T:G  single nucleotide variant   \n",
      "1  NC_000023.11:154022618:G:A  single nucleotide variant   \n",
      "2  NC_000023.11:154024527:G:A  single nucleotide variant   \n",
      "3  NC_000023.11:154025018:A:G  single nucleotide variant   \n",
      "4  NC_000023.11:154025790:T:G  single nucleotide variant   \n",
      "\n",
      "  Molecular consequence Germline classification   Sequence_ID   position  \\\n",
      "0   3 prime UTR variant                  Benign  NC_000023.11  154022510   \n",
      "1   3 prime UTR variant                  Benign  NC_000023.11  154022618   \n",
      "2   3 prime UTR variant           Likely benign  NC_000023.11  154024527   \n",
      "3   3 prime UTR variant    Benign/Likely benign  NC_000023.11  154025018   \n",
      "4   3 prime UTR variant                  Benign  NC_000023.11  154025790   \n",
      "\n",
      "  Deleted_Sequence  Inserted_Sequence Mutation_Type BP_Mutation  \n",
      "0                T                  G  Transversion         T>G  \n",
      "1                G                  A    Transition         G>A  \n",
      "2                G                  A    Transition         G>A  \n",
      "3                A                  G    Transition         A>G  \n",
      "4                T                  G  Transversion         T>G  \n",
      "\n",
      "[5 rows x 22 columns]\n"
     ]
    }
   ],
   "source": [
    "# List of columns to drop\n",
    "columns_to_drop = [\n",
    "    'Germline date last evaluated', \n",
    "    'Germline review status',\n",
    "    'Somatic clinical impact',\n",
    "    'Somatic clinical impact date last evaluated',\n",
    "    'Somatic clinical impact review status', \n",
    "    'Oncogenicity classification',\n",
    "    'Oncogenicity date last evaluated', \n",
    "    'Oncogenicity review status',\n",
    "    'Unnamed: 24'\n",
    "]\n",
    "\n",
    "# Drop the columns\n",
    "df_variants.drop(columns=columns_to_drop, inplace=True, errors='ignore')\n",
    "\n",
    "# Display the updated dataframe\n",
    "print(\"✅ Unwanted columns dropped successfully.\")\n",
    "print(df.head())\n"
   ]
  },
  {
   "cell_type": "code",
   "execution_count": null,
   "metadata": {},
   "outputs": [],
   "source": [
    "df_variants.to_csv('data/clinvar_result(9)_labeled.csv', index=False)\n",
    "print(\"✅ Mutation type labeling complete. Saved to 'data/clinvar_result(9)_labeled.csv'\")\n"
   ]
  }
 ],
 "metadata": {
  "kernelspec": {
   "display_name": "base",
   "language": "python",
   "name": "python3"
  },
  "language_info": {
   "codemirror_mode": {
    "name": "ipython",
    "version": 3
   },
   "file_extension": ".py",
   "mimetype": "text/x-python",
   "name": "python",
   "nbconvert_exporter": "python",
   "pygments_lexer": "ipython3",
   "version": "3.12.3"
  }
 },
 "nbformat": 4,
 "nbformat_minor": 2
}
