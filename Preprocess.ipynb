{
 "cells": [
  {
   "cell_type": "code",
   "execution_count": 21,
   "metadata": {},
   "outputs": [
    {
     "name": "stdout",
     "output_type": "stream",
     "text": [
      "                               Name Gene(s) Protein change  \\\n",
      "0  NM_001110792.2(MECP2):c.*7856A>C   MECP2            NaN   \n",
      "1  NM_001110792.2(MECP2):c.*7748C>T   MECP2            NaN   \n",
      "2  NM_001110792.2(MECP2):c.*5839C>T   MECP2            NaN   \n",
      "3  NM_001110792.2(MECP2):c.*5348T>C   MECP2            NaN   \n",
      "4  NM_001110792.2(MECP2):c.*4576A>C   MECP2            NaN   \n",
      "\n",
      "                 Condition(s)     Accession GRCh37Chromosome  GRCh37Location  \\\n",
      "0  not provided|Rett syndrome  VCV000143283                X       153287962   \n",
      "1               Rett syndrome  VCV000143282                X       153288070   \n",
      "2               Rett syndrome  VCV000143280                X       153289979   \n",
      "3  not provided|Rett syndrome  VCV000143275                X       153290470   \n",
      "4               Rett syndrome  VCV000143271                X       153291242   \n",
      "\n",
      "  GRCh38Chromosome  GRCh38Location  VariationID  ...  Prev_A Prev_C Prev_G  \\\n",
      "0                X       154022511       143283  ...   False  False   True   \n",
      "1                X       154022619       143282  ...    True  False  False   \n",
      "2                X       154024528       143280  ...   False   True  False   \n",
      "3                X       154025019       143275  ...   False   True  False   \n",
      "4                X       154025791       143271  ...   False  False  False   \n",
      "\n",
      "  Prev_T Next_A Next_C Next_G  Next_T Mutation_Frequency label  \n",
      "0  False  False  False  False    True                352     0  \n",
      "1  False  False  False   True   False                450     0  \n",
      "2  False  False  False   True   False                450     0  \n",
      "3  False   True  False  False   False                450     0  \n",
      "4   True  False  False  False    True                352     0  \n",
      "\n",
      "[5 rows x 56 columns]\n"
     ]
    }
   ],
   "source": [
    "import pandas as pd\n",
    "\n",
    "# Load dataset\n",
    "file_path = \"datap/featured_clinical_result.csv\"\n",
    "df = pd.read_csv(file_path)\n",
    "\n",
    "# Display the first few rows\n",
    "print(df.head())\n"
   ]
  },
  {
   "cell_type": "code",
   "execution_count": 22,
   "metadata": {},
   "outputs": [
    {
     "name": "stdout",
     "output_type": "stream",
     "text": [
      "✅ Missing values handled successfully.\n"
     ]
    }
   ],
   "source": [
    "categorical_cols = ['Mutation_Type', 'Molecular consequence', 'Germline classification']\n",
    "df[categorical_cols] = df[categorical_cols].fillna('Unknown')\n",
    "\n",
    "# Fill missing numerical values with median\n",
    "numerical_cols = ['position']\n",
    "df[numerical_cols] = df[numerical_cols].fillna(df[numerical_cols].median())\n",
    "\n",
    "print(\"✅ Missing values handled successfully.\")\n"
   ]
  },
  {
   "cell_type": "code",
   "execution_count": 23,
   "metadata": {},
   "outputs": [
    {
     "name": "stdout",
     "output_type": "stream",
     "text": [
      "✅ Unnecessary columns removed. Final dataset shape: (802, 34)\n"
     ]
    }
   ],
   "source": [
    "columns_to_remove = [\n",
    "    'Name','Gene(s)', 'Accession', 'VariationID', 'AlleleID(s)', 'dbSNP ID', 'Sequence_ID',\n",
    "    'GRCh37Chromosome', 'GRCh37Location', 'GRCh38Chromosome', 'GRCh38Location',\n",
    "    'Canonical SPDI', 'Protein change', 'Condition(s)',\n",
    "    'sequence_window', 'mutated_sequence','Variant type', 'Molecular consequence', 'Germline classification',\n",
    "       'Deleted_Sequence', 'Inserted_Sequence', 'Mutation_Type']\n",
    "\n",
    "# Drop columns\n",
    "df.drop(columns=columns_to_remove, inplace=True, errors='ignore')\n",
    "\n",
    "print(\"✅ Unnecessary columns removed. Final dataset shape:\", df.shape)\n"
   ]
  },
  {
   "cell_type": "code",
   "execution_count": 24,
   "metadata": {},
   "outputs": [
    {
     "name": "stdout",
     "output_type": "stream",
     "text": [
      "Class Distribution:\n",
      " label\n",
      "0    589\n",
      "1    213\n",
      "Name: count, dtype: int64\n"
     ]
    }
   ],
   "source": [
    "\n",
    "label_counts = df['label'].value_counts()\n",
    "print(\"Class Distribution:\\n\", label_counts)\n",
    "\n"
   ]
  },
  {
   "cell_type": "code",
   "execution_count": 25,
   "metadata": {},
   "outputs": [],
   "source": [
    "# from imblearn.under_sampling import RandomUnderSampler\n",
    "\n",
    "# # Apply random undersampling\n",
    "# undersampler = RandomUnderSampler(sampling_strategy=0.75, random_state=42)  # Keep 75% of Benign cases\n",
    "# X_resampled, y_resampled = undersampler.fit_resample(X_encoded, y)\n",
    "\n",
    "# # Check new distribution\n",
    "# print(\"✅ New Class Distribution After Undersampling:\\n\", Counter(y_resampled))\n"
   ]
  },
  {
   "cell_type": "code",
   "execution_count": 26,
   "metadata": {},
   "outputs": [
    {
     "name": "stdout",
     "output_type": "stream",
     "text": [
      "✅ Train-Test Split Done: 641 Train Samples, 161 Test Samples\n"
     ]
    }
   ],
   "source": [
    "from sklearn.model_selection import train_test_split\n",
    "\n",
    "# Define feature set (X) and target variable (y)\n",
    "X = df.drop(columns=['label'])\n",
    "y = df['label']\n",
    "\n",
    "# Split into training (80%) and testing (20%)\n",
    "X_train, X_test, y_train, y_test = train_test_split(X, y, test_size=0.2, random_state=42, stratify=y)\n",
    "\n",
    "print(f\"✅ Train-Test Split Done: {X_train.shape[0]} Train Samples, {X_test.shape[0]} Test Samples\")\n"
   ]
  },
  {
   "cell_type": "code",
   "execution_count": null,
   "metadata": {},
   "outputs": [
    {
     "name": "stdout",
     "output_type": "stream",
     "text": [
      "✅ Processed dataset saved as 'processed_clinical_result.csv'\n"
     ]
    }
   ],
   "source": [
    "# Save the processed data\n",
    "df.to_csv(\"datap/processed_clinical_result.csv\", index=False)\n",
    "print(\"✅ Processed dataset saved as 'processed_clinical_result.csv'\")\n"
   ]
  }
 ],
 "metadata": {
  "kernelspec": {
   "display_name": "base",
   "language": "python",
   "name": "python3"
  },
  "language_info": {
   "codemirror_mode": {
    "name": "ipython",
    "version": 3
   },
   "file_extension": ".py",
   "mimetype": "text/x-python",
   "name": "python",
   "nbconvert_exporter": "python",
   "pygments_lexer": "ipython3",
   "version": "3.12.3"
  }
 },
 "nbformat": 4,
 "nbformat_minor": 2
}
