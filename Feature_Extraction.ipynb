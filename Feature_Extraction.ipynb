{
 "cells": [
  {
   "cell_type": "code",
   "execution_count": 2,
   "metadata": {},
   "outputs": [],
   "source": [
    "import pandas as pd\n"
   ]
  },
  {
   "cell_type": "markdown",
   "metadata": {},
   "source": [
    "Load the Dataset"
   ]
  },
  {
   "cell_type": "code",
   "execution_count": 3,
   "metadata": {},
   "outputs": [
    {
     "name": "stdout",
     "output_type": "stream",
     "text": [
      "                               Name Gene(s) Protein change  \\\n",
      "0  NM_001110792.2(MECP2):c.*7856A>C   MECP2            NaN   \n",
      "1  NM_001110792.2(MECP2):c.*7748C>T   MECP2            NaN   \n",
      "2  NM_001110792.2(MECP2):c.*5839C>T   MECP2            NaN   \n",
      "3  NM_001110792.2(MECP2):c.*5348T>C   MECP2            NaN   \n",
      "4  NM_001110792.2(MECP2):c.*4576A>C   MECP2            NaN   \n",
      "\n",
      "                 Condition(s)     Accession GRCh37Chromosome  GRCh37Location  \\\n",
      "0  not provided|Rett syndrome  VCV000143283                X       153287962   \n",
      "1               Rett syndrome  VCV000143282                X       153288070   \n",
      "2               Rett syndrome  VCV000143280                X       153289979   \n",
      "3  not provided|Rett syndrome  VCV000143275                X       153290470   \n",
      "4               Rett syndrome  VCV000143271                X       153291242   \n",
      "\n",
      "  GRCh38Chromosome  GRCh38Location  VariationID  ...   Sequence_ID   position  \\\n",
      "0                X       154022511       143283  ...  NC_000023.11  154022510   \n",
      "1                X       154022619       143282  ...  NC_000023.11  154022618   \n",
      "2                X       154024528       143280  ...  NC_000023.11  154024527   \n",
      "3                X       154025019       143275  ...  NC_000023.11  154025018   \n",
      "4                X       154025791       143271  ...  NC_000023.11  154025790   \n",
      "\n",
      "  Deleted_Sequence Inserted_Sequence Mutation_Type BP_Mutation  \\\n",
      "0                T                 G  Transversion         T>G   \n",
      "1                G                 A    Transition         G>A   \n",
      "2                G                 A    Transition         G>A   \n",
      "3                A                 G    Transition         A>G   \n",
      "4                T                 G  Transversion         T>G   \n",
      "\n",
      "                                     sequence_window  \\\n",
      "0  AGATGTTTTCGCCATGGAATGGGAAGGGGTTTTCTCACATCTAAGT...   \n",
      "1  CTGGGAAGGGGAGGGTGGGGAATAGAGATGTCACAGTGTTGAGCCC...   \n",
      "2  GACTCCAGCTCCCAGAGGTGGAAGGCGACCAGGCTGTGCCGACTAC...   \n",
      "3  AAAACAAAAGCCCAGGATAGAGGAGACAAAGCAGGCCTATGCGCAC...   \n",
      "4  TTCATTCAAAAACATCGAAATGTAATTTTCTGCCAAATGTTTTCTA...   \n",
      "\n",
      "                                    mutated_sequence prev_position_allele  \\\n",
      "0  AGATGTTTTCGCCATGGAATGGGAAGGGGTTTTCTCACATCTAAGT...                    G   \n",
      "1  CTGGGAAGGGGAGGGTGGGGAATAGAGATGTCACAGTGTTGAGCCC...                    A   \n",
      "2  GACTCCAGCTCCCAGAGGTGGAAGGCGACCAGGCTGTGCCGACTAC...                    C   \n",
      "3  AAAACAAAAGCCCAGGATAGAGGAGACAAAGCAGGCCTATGCGCAC...                    C   \n",
      "4  TTCATTCAAAAACATCGAAATGTAATTTTCTGCCAAATGTTTTCTA...                    T   \n",
      "\n",
      "  next_position_allele  \n",
      "0                    T  \n",
      "1                    G  \n",
      "2                    G  \n",
      "3                    A  \n",
      "4                    T  \n",
      "\n",
      "[5 rows x 26 columns]\n"
     ]
    }
   ],
   "source": [
    "df= pd.read_csv(\"datap/clinical_result_labeled.csv\")\n",
    "\n",
    "# Display first 5 rows\n",
    "print(df.head())\n"
   ]
  },
  {
   "cell_type": "markdown",
   "metadata": {},
   "source": [
    "Encode Mutation Type"
   ]
  },
  {
   "cell_type": "code",
   "execution_count": 4,
   "metadata": {},
   "outputs": [
    {
     "name": "stdout",
     "output_type": "stream",
     "text": [
      "  Mutation_Type  Mutation_Type_Encoded\n",
      "0  Transversion                      1\n",
      "1    Transition                      0\n",
      "2    Transition                      0\n",
      "3    Transition                      0\n",
      "4  Transversion                      1\n"
     ]
    }
   ],
   "source": [
    "from sklearn.preprocessing import LabelEncoder\n",
    "\n",
    "le_mutation_type = LabelEncoder()\n",
    "df['Mutation_Type_Encoded'] = le_mutation_type.fit_transform(df['Mutation_Type'])\n",
    "\n",
    "print(df[['Mutation_Type', 'Mutation_Type_Encoded']].head())\n"
   ]
  },
  {
   "cell_type": "markdown",
   "metadata": {},
   "source": [
    "Step 3: Encode Base Pair Changes (G:A, C:T, etc.)"
   ]
  },
  {
   "cell_type": "code",
   "execution_count": 5,
   "metadata": {},
   "outputs": [
    {
     "name": "stdout",
     "output_type": "stream",
     "text": [
      "                               Name Gene(s) Protein change  \\\n",
      "0  NM_001110792.2(MECP2):c.*7856A>C   MECP2            NaN   \n",
      "1  NM_001110792.2(MECP2):c.*7748C>T   MECP2            NaN   \n",
      "2  NM_001110792.2(MECP2):c.*5839C>T   MECP2            NaN   \n",
      "3  NM_001110792.2(MECP2):c.*5348T>C   MECP2            NaN   \n",
      "4  NM_001110792.2(MECP2):c.*4576A>C   MECP2            NaN   \n",
      "\n",
      "                 Condition(s)     Accession GRCh37Chromosome  GRCh37Location  \\\n",
      "0  not provided|Rett syndrome  VCV000143283                X       153287962   \n",
      "1               Rett syndrome  VCV000143282                X       153288070   \n",
      "2               Rett syndrome  VCV000143280                X       153289979   \n",
      "3  not provided|Rett syndrome  VCV000143275                X       153290470   \n",
      "4               Rett syndrome  VCV000143271                X       153291242   \n",
      "\n",
      "  GRCh38Chromosome  GRCh38Location  VariationID  ...  BP_A>T BP_C>A BP_C>G  \\\n",
      "0                X       154022511       143283  ...   False  False  False   \n",
      "1                X       154022619       143282  ...   False  False  False   \n",
      "2                X       154024528       143280  ...   False  False  False   \n",
      "3                X       154025019       143275  ...   False  False  False   \n",
      "4                X       154025791       143271  ...   False  False  False   \n",
      "\n",
      "  BP_C>T BP_G>A BP_G>C BP_G>T  BP_T>A BP_T>C BP_T>G  \n",
      "0  False  False  False  False   False  False   True  \n",
      "1  False   True  False  False   False  False  False  \n",
      "2  False   True  False  False   False  False  False  \n",
      "3  False  False  False  False   False  False  False  \n",
      "4  False  False  False  False   False  False   True  \n",
      "\n",
      "[5 rows x 38 columns]\n"
     ]
    }
   ],
   "source": [
    "df_bp_onehot = pd.get_dummies(df['BP_Mutation'], prefix=\"BP\")\n",
    "df = pd.concat([df, df_bp_onehot], axis=1)\n",
    "\n",
    "df.drop(columns=['BP_Mutation'], inplace=True)\n",
    "\n",
    "print(df.head())\n"
   ]
  },
  {
   "cell_type": "markdown",
   "metadata": {},
   "source": [
    "Step 4: Use Mutation Position as a Numerical Feature"
   ]
  },
  {
   "cell_type": "code",
   "execution_count": 6,
   "metadata": {},
   "outputs": [
    {
     "name": "stdout",
     "output_type": "stream",
     "text": [
      "    position  Normalized_Position\n",
      "0  154022510             0.000000\n",
      "1  154022618             0.001436\n",
      "2  154024527             0.026823\n",
      "3  154025018             0.033352\n",
      "4  154025790             0.043619\n"
     ]
    }
   ],
   "source": [
    "from sklearn.preprocessing import MinMaxScaler\n",
    "\n",
    "scaler = MinMaxScaler()\n",
    "df['Normalized_Position'] = scaler.fit_transform(df[['position']])\n",
    "\n",
    "print(df[['position', 'Normalized_Position']].head())\n"
   ]
  },
  {
   "cell_type": "markdown",
   "metadata": {},
   "source": [
    "Step 5: Encode Molecular Consequence (One-Hot Encoding)"
   ]
  },
  {
   "cell_type": "code",
   "execution_count": 7,
   "metadata": {},
   "outputs": [
    {
     "name": "stdout",
     "output_type": "stream",
     "text": [
      "\n",
      "✅ Sample After Modification:\n",
      "                               Name Gene(s) Protein change  \\\n",
      "0  NM_001110792.2(MECP2):c.*7856A>C   MECP2            NaN   \n",
      "1  NM_001110792.2(MECP2):c.*7748C>T   MECP2            NaN   \n",
      "2  NM_001110792.2(MECP2):c.*5839C>T   MECP2            NaN   \n",
      "3  NM_001110792.2(MECP2):c.*5348T>C   MECP2            NaN   \n",
      "4  NM_001110792.2(MECP2):c.*4576A>C   MECP2            NaN   \n",
      "\n",
      "                 Condition(s)     Accession GRCh37Chromosome  GRCh37Location  \\\n",
      "0  not provided|Rett syndrome  VCV000143283                X       153287962   \n",
      "1               Rett syndrome  VCV000143282                X       153288070   \n",
      "2               Rett syndrome  VCV000143280                X       153289979   \n",
      "3  not provided|Rett syndrome  VCV000143275                X       153290470   \n",
      "4               Rett syndrome  VCV000143271                X       153291242   \n",
      "\n",
      "  GRCh38Chromosome  GRCh38Location  VariationID  ...  Normalized_Position  \\\n",
      "0                X       154022511       143283  ...             0.000000   \n",
      "1                X       154022619       143282  ...             0.001436   \n",
      "2                X       154024528       143280  ...             0.026823   \n",
      "3                X       154025019       143275  ...             0.033352   \n",
      "4                X       154025791       143271  ...             0.043619   \n",
      "\n",
      "  mc_synonymous_variant mc_3_prime_UTR_variant mc_5_prime_UTR_variant  \\\n",
      "0                     0                      1                      0   \n",
      "1                     0                      1                      0   \n",
      "2                     0                      1                      0   \n",
      "3                     0                      1                      0   \n",
      "4                     0                      1                      0   \n",
      "\n",
      "  mc_splice_donor_variant mc_splice_acceptor_variant mc_nonsense  \\\n",
      "0                       0                          0           0   \n",
      "1                       0                          0           0   \n",
      "2                       0                          0           0   \n",
      "3                       0                          0           0   \n",
      "4                       0                          0           0   \n",
      "\n",
      "   mc_intron_variant mc_missense_variant mc_stop_lost  \n",
      "0                  0                   0            0  \n",
      "1                  0                   0            0  \n",
      "2                  0                   0            0  \n",
      "3                  0                   0            0  \n",
      "4                  0                   0            0  \n",
      "\n",
      "[5 rows x 48 columns]\n"
     ]
    }
   ],
   "source": [
    "mc_labels = [\"synonymous variant\",\"3 prime UTR variant\", \"5 prime UTR variant\",\"splice donor variant\",\"splice acceptor variant\", \"nonsense\", \"intron variant\", \"missense variant\", \"stop lost\"]\n",
    "\n",
    "for mc in mc_labels:\n",
    "    df[f\"mc_{mc.replace(' ', '_')}\"] = df[\"Molecular consequence\"].apply(lambda x: 1 if mc in str(x) else 0)\n",
    "\n",
    "\n",
    "print(\"\\n✅ Sample After Modification:\")\n",
    "print(df.head())\n",
    "\n",
    "\n"
   ]
  },
  {
   "cell_type": "code",
   "execution_count": 8,
   "metadata": {},
   "outputs": [
    {
     "name": "stdout",
     "output_type": "stream",
     "text": [
      "\n",
      "✅ Frequency Counts:\n",
      "{'synonymous variant': 297, '3 prime UTR variant': 58, '5 prime UTR variant': 224, 'splice donor variant': 7, 'splice acceptor variant': 4, 'nonsense': 63, 'intron variant': 133, 'missense variant': 299, 'stop lost': 5}\n"
     ]
    }
   ],
   "source": [
    "# Count the frequency of each molecular consequence label\n",
    "frequency_counts = {}\n",
    "\n",
    "for mc in mc_labels:\n",
    "    column_name = f\"mc_{mc.replace(' ', '_')}\"\n",
    "    frequency_counts[mc] = df[column_name].sum()\n",
    "\n",
    "# Display the frequencies\n",
    "print(\"\\n✅ Frequency Counts:\")\n",
    "print(frequency_counts)\n"
   ]
  },
  {
   "cell_type": "markdown",
   "metadata": {},
   "source": [
    "Step 6: Extract Sequence Context (Previous & Next Base)"
   ]
  },
  {
   "cell_type": "code",
   "execution_count": 9,
   "metadata": {},
   "outputs": [
    {
     "name": "stdout",
     "output_type": "stream",
     "text": [
      "                               Name Gene(s) Protein change  \\\n",
      "0  NM_001110792.2(MECP2):c.*7856A>C   MECP2            NaN   \n",
      "1  NM_001110792.2(MECP2):c.*7748C>T   MECP2            NaN   \n",
      "2  NM_001110792.2(MECP2):c.*5839C>T   MECP2            NaN   \n",
      "3  NM_001110792.2(MECP2):c.*5348T>C   MECP2            NaN   \n",
      "4  NM_001110792.2(MECP2):c.*4576A>C   MECP2            NaN   \n",
      "\n",
      "                 Condition(s)     Accession GRCh37Chromosome  GRCh37Location  \\\n",
      "0  not provided|Rett syndrome  VCV000143283                X       153287962   \n",
      "1               Rett syndrome  VCV000143282                X       153288070   \n",
      "2               Rett syndrome  VCV000143280                X       153289979   \n",
      "3  not provided|Rett syndrome  VCV000143275                X       153290470   \n",
      "4               Rett syndrome  VCV000143271                X       153291242   \n",
      "\n",
      "  GRCh38Chromosome  GRCh38Location  VariationID  ...  mc_missense_variant  \\\n",
      "0                X       154022511       143283  ...                    0   \n",
      "1                X       154022619       143282  ...                    0   \n",
      "2                X       154024528       143280  ...                    0   \n",
      "3                X       154025019       143275  ...                    0   \n",
      "4                X       154025791       143271  ...                    0   \n",
      "\n",
      "  mc_stop_lost Prev_A Prev_C Prev_G Prev_T Next_A  Next_C Next_G Next_T  \n",
      "0            0  False  False   True  False  False   False  False   True  \n",
      "1            0   True  False  False  False  False   False   True  False  \n",
      "2            0  False   True  False  False  False   False   True  False  \n",
      "3            0  False   True  False  False   True   False  False  False  \n",
      "4            0  False  False  False   True  False   False  False   True  \n",
      "\n",
      "[5 rows x 54 columns]\n"
     ]
    }
   ],
   "source": [
    "df_prev_onehot = pd.get_dummies(df['prev_position_allele'], prefix=\"Prev\")\n",
    "df_next_onehot = pd.get_dummies(df['next_position_allele'], prefix=\"Next\")\n",
    "\n",
    "# Merge into main dataframe\n",
    "df = pd.concat([df, df_prev_onehot, df_next_onehot], axis=1)\n",
    "\n",
    "# Drop original columns\n",
    "df.drop(columns=['prev_position_allele', 'next_position_allele'], inplace=True)\n",
    "\n",
    "print(df.head())\n"
   ]
  },
  {
   "cell_type": "markdown",
   "metadata": {},
   "source": [
    "Compute Mutation Frequency"
   ]
  },
  {
   "cell_type": "code",
   "execution_count": 10,
   "metadata": {},
   "outputs": [
    {
     "name": "stdout",
     "output_type": "stream",
     "text": [
      "  Mutation_Type  Mutation_Frequency\n",
      "0  Transversion                 352\n",
      "1    Transition                 450\n",
      "2    Transition                 450\n",
      "3    Transition                 450\n",
      "4  Transversion                 352\n"
     ]
    }
   ],
   "source": [
    "mutation_counts = df['Mutation_Type'].value_counts()\n",
    "df['Mutation_Frequency'] = df['Mutation_Type'].map(mutation_counts)\n",
    "\n",
    "print(df[['Mutation_Type', 'Mutation_Frequency']].head())\n"
   ]
  },
  {
   "cell_type": "code",
   "execution_count": 11,
   "metadata": {},
   "outputs": [
    {
     "name": "stdout",
     "output_type": "stream",
     "text": [
      "  Germline classification\n",
      "0                  Benign\n",
      "1                  Benign\n",
      "2           Likely benign\n",
      "3    Benign/Likely benign\n",
      "4                  Benign\n"
     ]
    }
   ],
   "source": [
    "print(df[['Germline classification']].head())"
   ]
  },
  {
   "cell_type": "markdown",
   "metadata": {},
   "source": [
    "Step 8: Encode Clinical Significance (Target Variable)"
   ]
  },
  {
   "cell_type": "code",
   "execution_count": 12,
   "metadata": {},
   "outputs": [
    {
     "name": "stdout",
     "output_type": "stream",
     "text": [
      "Index(['Name', 'Gene(s)', 'Protein change', 'Condition(s)', 'Accession',\n",
      "       'GRCh37Chromosome', 'GRCh37Location', 'GRCh38Chromosome',\n",
      "       'GRCh38Location', 'VariationID', 'AlleleID(s)', 'dbSNP ID',\n",
      "       'Canonical SPDI', 'Variant type', 'Molecular consequence',\n",
      "       'Germline classification', 'Sequence_ID', 'position',\n",
      "       'Deleted_Sequence', 'Inserted_Sequence', 'Mutation_Type',\n",
      "       'sequence_window', 'mutated_sequence', 'Mutation_Type_Encoded',\n",
      "       'BP_A>C', 'BP_A>G', 'BP_A>T', 'BP_C>A', 'BP_C>G', 'BP_C>T', 'BP_G>A',\n",
      "       'BP_G>C', 'BP_G>T', 'BP_T>A', 'BP_T>C', 'BP_T>G', 'Normalized_Position',\n",
      "       'mc_synonymous_variant', 'mc_3_prime_UTR_variant',\n",
      "       'mc_5_prime_UTR_variant', 'mc_splice_donor_variant',\n",
      "       'mc_splice_acceptor_variant', 'mc_nonsense', 'mc_intron_variant',\n",
      "       'mc_missense_variant', 'mc_stop_lost', 'Prev_A', 'Prev_C', 'Prev_G',\n",
      "       'Prev_T', 'Next_A', 'Next_C', 'Next_G', 'Next_T', 'Mutation_Frequency'],\n",
      "      dtype='object')\n"
     ]
    }
   ],
   "source": [
    "print(df.columns)\n"
   ]
  },
  {
   "cell_type": "code",
   "execution_count": 13,
   "metadata": {},
   "outputs": [
    {
     "name": "stdout",
     "output_type": "stream",
     "text": [
      "                               Name Gene(s) Protein change  \\\n",
      "0  NM_001110792.2(MECP2):c.*7856A>C   MECP2            NaN   \n",
      "1  NM_001110792.2(MECP2):c.*7748C>T   MECP2            NaN   \n",
      "2  NM_001110792.2(MECP2):c.*5839C>T   MECP2            NaN   \n",
      "3  NM_001110792.2(MECP2):c.*5348T>C   MECP2            NaN   \n",
      "4  NM_001110792.2(MECP2):c.*4576A>C   MECP2            NaN   \n",
      "\n",
      "                 Condition(s)     Accession GRCh37Chromosome  GRCh37Location  \\\n",
      "0  not provided|Rett syndrome  VCV000143283                X       153287962   \n",
      "1               Rett syndrome  VCV000143282                X       153288070   \n",
      "2               Rett syndrome  VCV000143280                X       153289979   \n",
      "3  not provided|Rett syndrome  VCV000143275                X       153290470   \n",
      "4               Rett syndrome  VCV000143271                X       153291242   \n",
      "\n",
      "  GRCh38Chromosome  GRCh38Location  VariationID  ...  Prev_A Prev_C Prev_G  \\\n",
      "0                X       154022511       143283  ...   False  False   True   \n",
      "1                X       154022619       143282  ...    True  False  False   \n",
      "2                X       154024528       143280  ...   False   True  False   \n",
      "3                X       154025019       143275  ...   False   True  False   \n",
      "4                X       154025791       143271  ...   False  False  False   \n",
      "\n",
      "  Prev_T Next_A Next_C  Next_G Next_T Mutation_Frequency label  \n",
      "0  False  False  False   False   True                352     0  \n",
      "1  False  False  False    True  False                450     0  \n",
      "2  False  False  False    True  False                450     0  \n",
      "3  False   True  False   False  False                450     0  \n",
      "4   True  False  False   False   True                352     0  \n",
      "\n",
      "[5 rows x 55 columns]\n"
     ]
    }
   ],
   "source": [
    "label_mapping = {\n",
    "    \"Pathogenic\": 1, \n",
    "    \"Likely pathogenic\": 1,\n",
    "    \"Pathogenic/Likely pathogenic\": 1,\n",
    "    \"Benign\": 0, \n",
    "    \"Likely benign\": 0,\n",
    "    \"Benign/Likely benign\": 0\n",
    "}\n",
    "\n",
    "df[\"label\"] = df[\"Germline classification\"].map(label_mapping).fillna(-1)  \n",
    "\n",
    "df_variants = df[df[\"label\"] != -1].copy()\n",
    "\n",
    "df_variants.drop(columns=['Germline classification'], inplace=True)\n",
    "\n",
    "# Display first few rows\n",
    "print(df_variants.head())\n"
   ]
  },
  {
   "cell_type": "markdown",
   "metadata": {},
   "source": [
    "Step 9: Save the Processed Dataset"
   ]
  },
  {
   "cell_type": "code",
   "execution_count": 14,
   "metadata": {},
   "outputs": [],
   "source": [
    "\n",
    "# df.to_csv(\"datap/featured_clinical_result.csv\", index=False)\n",
    "# print(\"✅ Processed dataset saved as 'processed_clinical_result.csv'\")\n"
   ]
  },
  {
   "cell_type": "code",
   "execution_count": 15,
   "metadata": {},
   "outputs": [
    {
     "name": "stdout",
     "output_type": "stream",
     "text": [
      "Index(['Name', 'Gene(s)', 'Protein change', 'Condition(s)', 'Accession',\n",
      "       'GRCh37Chromosome', 'GRCh37Location', 'GRCh38Chromosome',\n",
      "       'GRCh38Location', 'VariationID', 'AlleleID(s)', 'dbSNP ID',\n",
      "       'Canonical SPDI', 'Variant type', 'Molecular consequence',\n",
      "       'Germline classification', 'Sequence_ID', 'position',\n",
      "       'Deleted_Sequence', 'Inserted_Sequence', 'Mutation_Type',\n",
      "       'sequence_window', 'mutated_sequence', 'Mutation_Type_Encoded',\n",
      "       'BP_A>C', 'BP_A>G', 'BP_A>T', 'BP_C>A', 'BP_C>G', 'BP_C>T', 'BP_G>A',\n",
      "       'BP_G>C', 'BP_G>T', 'BP_T>A', 'BP_T>C', 'BP_T>G', 'Normalized_Position',\n",
      "       'mc_synonymous_variant', 'mc_3_prime_UTR_variant',\n",
      "       'mc_5_prime_UTR_variant', 'mc_splice_donor_variant',\n",
      "       'mc_splice_acceptor_variant', 'mc_nonsense', 'mc_intron_variant',\n",
      "       'mc_missense_variant', 'mc_stop_lost', 'Prev_A', 'Prev_C', 'Prev_G',\n",
      "       'Prev_T', 'Next_A', 'Next_C', 'Next_G', 'Next_T', 'Mutation_Frequency',\n",
      "       'label'],\n",
      "      dtype='object')\n"
     ]
    }
   ],
   "source": [
    "print(df.columns)\n"
   ]
  }
 ],
 "metadata": {
  "kernelspec": {
   "display_name": "base",
   "language": "python",
   "name": "python3"
  },
  "language_info": {
   "codemirror_mode": {
    "name": "ipython",
    "version": 3
   },
   "file_extension": ".py",
   "mimetype": "text/x-python",
   "name": "python",
   "nbconvert_exporter": "python",
   "pygments_lexer": "ipython3",
   "version": "3.12.3"
  }
 },
 "nbformat": 4,
 "nbformat_minor": 2
}
